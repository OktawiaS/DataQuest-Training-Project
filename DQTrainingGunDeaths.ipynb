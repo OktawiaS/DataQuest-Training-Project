{
 "cells": [
  {
   "cell_type": "markdown",
   "metadata": {},
   "source": [
    "## Dataquest -Training Project\n",
    "# US Gun Deaths Analysis"
   ]
  },
  {
   "cell_type": "code",
   "execution_count": 39,
   "metadata": {
    "collapsed": false
   },
   "outputs": [
    {
     "data": {
      "text/plain": [
       "[['',\n",
       "  'year',\n",
       "  'month',\n",
       "  'intent',\n",
       "  'police',\n",
       "  'sex',\n",
       "  'age',\n",
       "  'race',\n",
       "  'hispanic',\n",
       "  'place',\n",
       "  'education'],\n",
       " ['1',\n",
       "  '2012',\n",
       "  '01',\n",
       "  'Suicide',\n",
       "  '0',\n",
       "  'M',\n",
       "  '34',\n",
       "  'Asian/Pacific Islander',\n",
       "  '100',\n",
       "  'Home',\n",
       "  '4'],\n",
       " ['2', '2012', '01', 'Suicide', '0', 'F', '21', 'White', '100', 'Street', '3'],\n",
       " ['3',\n",
       "  '2012',\n",
       "  '01',\n",
       "  'Suicide',\n",
       "  '0',\n",
       "  'M',\n",
       "  '60',\n",
       "  'White',\n",
       "  '100',\n",
       "  'Other specified',\n",
       "  '4'],\n",
       " ['4', '2012', '02', 'Suicide', '0', 'M', '64', 'White', '100', 'Home', '4']]"
      ]
     },
     "execution_count": 39,
     "metadata": {},
     "output_type": "execute_result"
    }
   ],
   "source": [
    "\n",
    "import csv, collections,datetime\n",
    "\n",
    "f=open(\"guns.csv\", \"r\") \n",
    "reader = csv.reader(f)\n",
    "data = list(reader)\n",
    "data[:5]\n",
    "\n"
   ]
  },
  {
   "cell_type": "code",
   "execution_count": 40,
   "metadata": {
    "collapsed": false
   },
   "outputs": [
    {
     "data": {
      "text/plain": [
       "(['',\n",
       "  'year',\n",
       "  'month',\n",
       "  'intent',\n",
       "  'police',\n",
       "  'sex',\n",
       "  'age',\n",
       "  'race',\n",
       "  'hispanic',\n",
       "  'place',\n",
       "  'education'],\n",
       " [['1',\n",
       "   '2012',\n",
       "   '01',\n",
       "   'Suicide',\n",
       "   '0',\n",
       "   'M',\n",
       "   '34',\n",
       "   'Asian/Pacific Islander',\n",
       "   '100',\n",
       "   'Home',\n",
       "   '4'],\n",
       "  ['2',\n",
       "   '2012',\n",
       "   '01',\n",
       "   'Suicide',\n",
       "   '0',\n",
       "   'F',\n",
       "   '21',\n",
       "   'White',\n",
       "   '100',\n",
       "   'Street',\n",
       "   '3'],\n",
       "  ['3',\n",
       "   '2012',\n",
       "   '01',\n",
       "   'Suicide',\n",
       "   '0',\n",
       "   'M',\n",
       "   '60',\n",
       "   'White',\n",
       "   '100',\n",
       "   'Other specified',\n",
       "   '4'],\n",
       "  ['4', '2012', '02', 'Suicide', '0', 'M', '64', 'White', '100', 'Home', '4'],\n",
       "  ['5',\n",
       "   '2012',\n",
       "   '02',\n",
       "   'Suicide',\n",
       "   '0',\n",
       "   'M',\n",
       "   '31',\n",
       "   'White',\n",
       "   '100',\n",
       "   'Other specified',\n",
       "   '2']])"
      ]
     },
     "execution_count": 40,
     "metadata": {},
     "output_type": "execute_result"
    }
   ],
   "source": [
    "headers=data[0]\n",
    "data=data[1:]\n",
    "headers,data[0:5]\n",
    "\n"
   ]
  },
  {
   "cell_type": "markdown",
   "metadata": {
    "collapsed": false
   },
   "source": [
    "\n",
    "# Counting Gun Deaths By Year and Month and Year\n",
    "\n"
   ]
  },
  {
   "cell_type": "code",
   "execution_count": 6,
   "metadata": {
    "collapsed": true
   },
   "outputs": [],
   "source": [
    "years=[]\n",
    "years=[(row[1]) for row in data]"
   ]
  },
  {
   "cell_type": "code",
   "execution_count": 7,
   "metadata": {
    "collapsed": false
   },
   "outputs": [
    {
     "data": {
      "text/plain": [
       "Counter({'2012': 33563, '2013': 33636, '2014': 33599})"
      ]
     },
     "execution_count": 7,
     "metadata": {},
     "output_type": "execute_result"
    }
   ],
   "source": [
    "year_counts=collections.Counter(years)\n",
    "year_counts\n"
   ]
  },
  {
   "cell_type": "code",
   "execution_count": 41,
   "metadata": {
    "collapsed": false
   },
   "outputs": [
    {
     "data": {
      "text/plain": [
       "[datetime.datetime(2012, 1, 1, 0, 0),\n",
       " datetime.datetime(2012, 1, 1, 0, 0),\n",
       " datetime.datetime(2012, 1, 1, 0, 0),\n",
       " datetime.datetime(2012, 2, 1, 0, 0),\n",
       " datetime.datetime(2012, 2, 1, 0, 0)]"
      ]
     },
     "execution_count": 41,
     "metadata": {},
     "output_type": "execute_result"
    }
   ],
   "source": [
    "\n",
    "\n",
    "dates = [datetime.datetime(year=int(row[1]), month=int(row[2]), day=1) for row in data]\n",
    "dates[:5]"
   ]
  },
  {
   "cell_type": "code",
   "execution_count": 9,
   "metadata": {
    "collapsed": false,
    "scrolled": true
   },
   "outputs": [
    {
     "data": {
      "text/plain": [
       "Counter({datetime.datetime(2012, 1, 1, 0, 0): 2758,\n",
       "         datetime.datetime(2012, 2, 1, 0, 0): 2357,\n",
       "         datetime.datetime(2012, 3, 1, 0, 0): 2743,\n",
       "         datetime.datetime(2012, 4, 1, 0, 0): 2795,\n",
       "         datetime.datetime(2012, 5, 1, 0, 0): 2999,\n",
       "         datetime.datetime(2012, 6, 1, 0, 0): 2826,\n",
       "         datetime.datetime(2012, 7, 1, 0, 0): 3026,\n",
       "         datetime.datetime(2012, 8, 1, 0, 0): 2954,\n",
       "         datetime.datetime(2012, 9, 1, 0, 0): 2852,\n",
       "         datetime.datetime(2012, 10, 1, 0, 0): 2733,\n",
       "         datetime.datetime(2012, 11, 1, 0, 0): 2729,\n",
       "         datetime.datetime(2012, 12, 1, 0, 0): 2791,\n",
       "         datetime.datetime(2013, 1, 1, 0, 0): 2864,\n",
       "         datetime.datetime(2013, 2, 1, 0, 0): 2375,\n",
       "         datetime.datetime(2013, 3, 1, 0, 0): 2862,\n",
       "         datetime.datetime(2013, 4, 1, 0, 0): 2798,\n",
       "         datetime.datetime(2013, 5, 1, 0, 0): 2806,\n",
       "         datetime.datetime(2013, 6, 1, 0, 0): 2920,\n",
       "         datetime.datetime(2013, 7, 1, 0, 0): 3079,\n",
       "         datetime.datetime(2013, 8, 1, 0, 0): 2859,\n",
       "         datetime.datetime(2013, 9, 1, 0, 0): 2742,\n",
       "         datetime.datetime(2013, 10, 1, 0, 0): 2808,\n",
       "         datetime.datetime(2013, 11, 1, 0, 0): 2758,\n",
       "         datetime.datetime(2013, 12, 1, 0, 0): 2765,\n",
       "         datetime.datetime(2014, 1, 1, 0, 0): 2651,\n",
       "         datetime.datetime(2014, 2, 1, 0, 0): 2361,\n",
       "         datetime.datetime(2014, 3, 1, 0, 0): 2684,\n",
       "         datetime.datetime(2014, 4, 1, 0, 0): 2862,\n",
       "         datetime.datetime(2014, 5, 1, 0, 0): 2864,\n",
       "         datetime.datetime(2014, 6, 1, 0, 0): 2931,\n",
       "         datetime.datetime(2014, 7, 1, 0, 0): 2884,\n",
       "         datetime.datetime(2014, 8, 1, 0, 0): 2970,\n",
       "         datetime.datetime(2014, 9, 1, 0, 0): 2914,\n",
       "         datetime.datetime(2014, 10, 1, 0, 0): 2865,\n",
       "         datetime.datetime(2014, 11, 1, 0, 0): 2756,\n",
       "         datetime.datetime(2014, 12, 1, 0, 0): 2857})"
      ]
     },
     "execution_count": 9,
     "metadata": {},
     "output_type": "execute_result"
    }
   ],
   "source": [
    "date_counts=collections.Counter(dates)\n",
    "date_counts"
   ]
  },
  {
   "cell_type": "markdown",
   "metadata": {},
   "source": [
    "# Counting Gun Deaths By Race And Sex"
   ]
  },
  {
   "cell_type": "code",
   "execution_count": 11,
   "metadata": {
    "collapsed": false
   },
   "outputs": [
    {
     "data": {
      "text/plain": [
       "{'Asian/Pacific Islander': 8.374309664161762,\n",
       " 'Black': 57.8773477735196,\n",
       " 'Hispanic': 20.220491210910907,\n",
       " 'Native American/Native Alaskan': 24.521955573811088,\n",
       " 'White': 33.56849303419181}"
      ]
     },
     "execution_count": 11,
     "metadata": {},
     "output_type": "execute_result"
    }
   ],
   "source": [
    "sex=[row[5] for row in data]\n",
    "race=[row[7] for row in data]\n",
    "sex_counts=collections.Counter(sex)\n",
    "race_counts=collections.Counter(race)\n",
    "sex_counts, race_counts\n",
    "\n",
    "\n",
    "ff=open(\"census.csv\",\"r\")\n",
    "reader1 = csv.reader(ff)\n",
    "census=list(reader1)\n",
    "census\n",
    "mapping = {\n",
    "    \"Asian/Pacific Islander\": 15159516 + 674625,\n",
    "    \"Native American/Native Alaskan\": 3739506,\n",
    "    \"Black\": 40250635,\n",
    "    \"Hispanic\": 44618105,\n",
    "    \"White\": 197318956\n",
    "}\n",
    "race_per_hundredk={}\n",
    "for n, r in race_counts.items():\n",
    "    race_per_hundredk[n]= (r/mapping[n])*100000\n",
    "race_per_hundredk"
   ]
  },
  {
   "cell_type": "markdown",
   "metadata": {},
   "source": [
    "# Exploring Gun Deaths with Specific intent \n",
    "# - Homicide"
   ]
  },
  {
   "cell_type": "code",
   "execution_count": 25,
   "metadata": {
    "collapsed": false
   },
   "outputs": [],
   "source": [
    "intents=[row[3] for row in data]\n"
   ]
  },
  {
   "cell_type": "code",
   "execution_count": 18,
   "metadata": {
    "collapsed": false
   },
   "outputs": [
    {
     "data": {
      "text/plain": [
       "{'Asian/Pacific Islander': 3.530346230970155,\n",
       " 'Black': 48.471284987180944,\n",
       " 'Hispanic': 12.627161104219914,\n",
       " 'Native American/Native Alaskan': 8.717729026240365,\n",
       " 'White': 4.6356417981453335}"
      ]
     },
     "execution_count": 18,
     "metadata": {},
     "output_type": "execute_result"
    }
   ],
   "source": [
    "homicide_race_counts={}\n",
    "for i,races in enumerate(race):\n",
    "    if races not in homicide_race_counts:\n",
    "        homicide_race_counts[races] = 0\n",
    "    if intents[i] == \"Homicide\":\n",
    "        homicide_race_counts[races] += 1\n",
    "\n",
    "race_per_hundredk = {}\n",
    "for k,v in homicide_race_counts.items():\n",
    "    race_per_hundredk[k] = (v / mapping[k]) * 100000\n",
    "\n",
    "race_per_hundredk\n"
   ]
  },
  {
   "cell_type": "code",
   "execution_count": 32,
   "metadata": {
    "collapsed": false
   },
   "outputs": [
    {
     "data": {
      "text/plain": [
       "{'F': 5373, 'M': 29803}"
      ]
     },
     "execution_count": 32,
     "metadata": {},
     "output_type": "execute_result"
    }
   ],
   "source": [
    "months=[row[2] for row in data]\n",
    "homicide_month_counts={}\n",
    "for i,m  in enumerate(months):\n",
    "    if m not in homicide_month_counts:\n",
    "        homicide_month_counts[m] = 0\n",
    "    if intents[i] == \"Homicide\":\n",
    "        homicide_month_counts[m] += 1\n",
    "homicide_month_counts\n",
    "\n",
    "\n",
    "homicide_gender_counts={}\n",
    "for i,g  in enumerate(sex):\n",
    "    if g not in homicide_gender_counts:\n",
    "        homicide_gender_counts[g] = 0\n",
    "    if intents[i] == \"Homicide\":\n",
    "        homicide_gender_counts[g] += 1\n",
    "homicide_gender_counts\n",
    "\n",
    "\n",
    "\n",
    "\n",
    "\n"
   ]
  },
  {
   "cell_type": "code",
   "execution_count": 33,
   "metadata": {
    "collapsed": false
   },
   "outputs": [
    {
     "data": {
      "text/plain": [
       "{'Asian/Pacific Islander': 0.07578560782046845,\n",
       " 'Black': 0.814893976206835,\n",
       " 'Hispanic': 0.3249801846133985,\n",
       " 'Native American/Native Alaskan': 0.5883130017708221,\n",
       " 'White': 0.5736904466492313}"
      ]
     },
     "execution_count": 33,
     "metadata": {},
     "output_type": "execute_result"
    }
   ],
   "source": [
    "accidental_race_counts={}\n",
    "for i,races in enumerate(race):\n",
    "    if races not in accidental_race_counts:\n",
    "        accidental_race_counts[races] = 0\n",
    "    if intents[i] == \"Accidental\":\n",
    "        accidental_race_counts[races] += 1\n",
    "\n",
    "raceaccid_per_hundredk = {}\n",
    "for k,v in accidental_race_counts.items():\n",
    "    raceaccid_per_hundredk[k] = (v / mapping[k]) * 100000\n",
    "\n",
    "raceaccid_per_hundredk"
   ]
  },
  {
   "cell_type": "code",
   "execution_count": 34,
   "metadata": {
    "collapsed": false
   },
   "outputs": [
    {
     "data": {
      "text/plain": [
       "{'F': 218, 'M': 1421}"
      ]
     },
     "execution_count": 34,
     "metadata": {},
     "output_type": "execute_result"
    }
   ],
   "source": [
    "accidental_gender_counts={}\n",
    "for i,g  in enumerate(sex):\n",
    "    if g not in accidental_gender_counts:\n",
    "        accidental_gender_counts[g] = 0\n",
    "    if intents[i] == \"Accidental\":\n",
    "        accidental_gender_counts[g] += 1\n",
    "accidental_gender_counts"
   ]
  },
  {
   "cell_type": "code",
   "execution_count": null,
   "metadata": {
    "collapsed": true
   },
   "outputs": [],
   "source": [
    "location=[row[5] for row in data]\n",
    "education=[row[7] for row in data]\n",
    "loc_counts=collections.Counter(location)\n",
    "educ_counts=collections.Counter(education)\n",
    "loc_counts, educ_counts"
   ]
  }
 ],
 "metadata": {
  "kernelspec": {
   "display_name": "Python 3",
   "language": "python",
   "name": "python3"
  },
  "language_info": {
   "codemirror_mode": {
    "name": "ipython",
    "version": 3
   },
   "file_extension": ".py",
   "mimetype": "text/x-python",
   "name": "python",
   "nbconvert_exporter": "python",
   "pygments_lexer": "ipython3",
   "version": "3.4.3"
  }
 },
 "nbformat": 4,
 "nbformat_minor": 0
}
